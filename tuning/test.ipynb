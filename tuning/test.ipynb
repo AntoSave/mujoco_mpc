{
 "cells": [
  {
   "cell_type": "code",
   "execution_count": 1,
   "metadata": {},
   "outputs": [
    {
     "name": "stderr",
     "output_type": "stream",
     "text": [
      "libEGL warning: failed to open /dev/dri/renderD128: Permission denied\n",
      "\n",
      "libEGL warning: failed to open /dev/dri/renderD128: Permission denied\n",
      "\n",
      "libEGL warning: NEEDS EXTENSION: falling back to kms_swrast\n"
     ]
    }
   ],
   "source": [
    "import mujoco\n",
    "import mediapy as media\n",
    "import mujoco.viewer as viewer"
   ]
  },
  {
   "cell_type": "code",
   "execution_count": 6,
   "metadata": {},
   "outputs": [
    {
     "name": "stdout",
     "output_type": "stream",
     "text": [
      "Model info:\n",
      " nq 26\n",
      " nv 25\n",
      " nu 19\n",
      " na 0\n",
      " njoint 20\n",
      "\n",
      "Model joints:\n",
      "  [0] [0] [0] [0.   0.   1.06 1.   0.   0.   0.  ] [0. 0.]\n",
      " left_hip_yaw [3] [7] [6] [0.] [-0.43  0.43]\n",
      " left_hip_roll [3] [8] [7] [0.] [-0.43  0.43]\n",
      " left_hip_pitch [3] [9] [8] [0.] [-1.57  1.57]\n",
      " left_knee [3] [10] [9] [0.] [-0.26  2.05]\n",
      " left_ankle [3] [11] [10] [0.] [-0.87  0.52]\n",
      " right_hip_yaw [3] [12] [11] [0.] [-0.43  0.43]\n",
      " right_hip_roll [3] [13] [12] [0.] [-0.43  0.43]\n",
      " right_hip_pitch [3] [14] [13] [0.] [-1.57  1.57]\n",
      " right_knee [3] [15] [14] [0.] [-0.26  2.05]\n",
      " right_ankle [3] [16] [15] [0.] [-0.87  0.52]\n",
      " torso [3] [17] [16] [0.] [-2.35  2.35]\n",
      " left_shoulder_pitch [3] [18] [17] [0.] [-2.87  2.87]\n",
      " left_shoulder_roll [3] [19] [18] [0.] [-0.34  3.11]\n",
      " left_shoulder_yaw [3] [20] [19] [0.] [-1.3   4.45]\n",
      " left_elbow [3] [21] [20] [0.] [-1.25  2.61]\n",
      " right_shoulder_pitch [3] [22] [21] [0.] [-2.87  2.87]\n",
      " right_shoulder_roll [3] [23] [22] [0.] [-3.11  0.34]\n",
      " right_shoulder_yaw [3] [24] [23] [0.] [-4.45  1.3 ]\n",
      " right_elbow [3] [25] [24] [0.] [-1.25  2.61]\n",
      "\n",
      "Model bodies:\n",
      " world 0 [0. 0. 0.]\n",
      " pelvis 1 [0.   0.   1.06]\n",
      " legs 2 [0. 0. 0.]\n",
      " left_hip_yaw_link 3 [ 0.      0.0875 -0.1742]\n",
      " left_hip_roll_link 4 [0.039468 0.       0.      ]\n",
      " left_hip_pitch_link 5 [0.      0.11536 0.     ]\n",
      " left_knee_link 6 [ 0.   0.  -0.4]\n",
      " left_ankle_link 7 [ 0.   0.  -0.4]\n",
      " right_hip_yaw_link 8 [ 0.     -0.0875 -0.1742]\n",
      " right_hip_roll_link 9 [0.039468 0.       0.      ]\n",
      " right_hip_pitch_link 10 [ 0.      -0.11536  0.     ]\n",
      " right_knee_link 11 [ 0.   0.  -0.4]\n",
      " right_ankle_link 12 [ 0.   0.  -0.4]\n",
      " torso_link 13 [0. 0. 0.]\n",
      " left_shoulder_pitch_link 14 [0.0055  0.15535 0.42999]\n",
      " left_shoulder_roll_link 15 [-0.0055  0.0565 -0.0165]\n",
      " left_shoulder_yaw_link 16 [ 0.      0.     -0.1343]\n",
      " left_elbow_link 17 [ 0.0185  0.     -0.198 ]\n",
      " right_shoulder_pitch_link 18 [ 0.0055  -0.15535  0.42999]\n",
      " right_shoulder_roll_link 19 [-0.0055 -0.0565 -0.0165]\n",
      " right_shoulder_yaw_link 20 [ 0.      0.     -0.1343]\n",
      " right_elbow_link 21 [ 0.0185  0.     -0.198 ]\n",
      "\n",
      "Model sensors:\n",
      " Height 0 [39] [0.]\n",
      " Pelvis/Feet 1 [39] [0.]\n",
      " Balance 2 [39] [0. 0.]\n",
      " Upright 3 [39] [0. 0. 0. 0. 0. 0. 0. 0.]\n",
      " Posture up 4 [39] [0. 0. 0. 0. 0. 0. 0. 0. 0.]\n",
      " Posture down 5 [39] [0. 0. 0. 0. 0. 0. 0. 0. 0. 0.]\n",
      " Walk forward 6 [39] [0.]\n",
      " Move feet 7 [39] [0. 0.]\n",
      " Control 8 [39] [0. 0. 0. 0. 0. 0. 0. 0. 0. 0. 0. 0. 0. 0. 0. 0. 0. 0. 0.]\n",
      " Feet Distance 9 [39] [0.]\n",
      " Slippage 10 [39] [0. 0.]\n",
      " Gait 11 [39] [0. 0.]\n",
      " torso_position 12 [25] [0. 0. 0.]\n",
      " torso_subcom 13 [34] [0. 0. 0.]\n",
      " torso_subcomvel 14 [35] [0. 0. 0.]\n",
      " foot_right 15 [25] [0. 0. 0.]\n",
      " foot_left 16 [25] [0. 0. 0.]\n",
      " foot_right_xbody 17 [25] [0. 0. 0.]\n",
      " foot_left_xbody 18 [25] [0. 0. 0.]\n",
      " pelvis_position 19 [25] [0. 0. 0.]\n",
      " torso_up 20 [29] [0. 0. 0.]\n",
      " pelvis_up 21 [29] [0. 0. 0.]\n",
      " foot_right_up 22 [29] [0. 0. 0.]\n",
      " foot_left_up 23 [29] [0. 0. 0.]\n",
      " torso_forward 24 [27] [0. 0. 0.]\n",
      " pelvis_forward 25 [27] [0. 0. 0.]\n",
      " foot_right_forward 26 [27] [0. 0. 0.]\n",
      " foot_left_forward 27 [27] [0. 0. 0.]\n",
      " waist_lower_subcomvel 28 [35] [0. 0. 0.]\n",
      " torso_velocity 29 [30] [0. 0. 0.]\n",
      " foot_right_velocity 30 [30] [0. 0. 0.]\n",
      " foot_left_velocity 31 [30] [0. 0. 0.]\n",
      " foot_right_ang_velocity 32 [31] [0. 0. 0.]\n",
      " foot_left_ang_velocity 33 [31] [0. 0. 0.]\n"
     ]
    }
   ],
   "source": [
    "model = mujoco.MjModel.from_xml_path('../build/mjpc/tasks/h1/walk/task.xml')\n",
    "data = mujoco.MjData(model)\n",
    "print(\"Model info:\")\n",
    "print(\" nq\", model.nq)\n",
    "print(\" nv\", model.nv)\n",
    "print(\" nu\", model.nu)\n",
    "print(\" na\", model.na)\n",
    "print(\" njoint\", model.njnt)\n",
    "\n",
    "print(\"\\nModel joints:\")\n",
    "for i in range(model.njnt):\n",
    "    print(\"\",model.joint(i).name, model.joint(i).type, model.joint(i).qposadr, model.joint(i).dofadr, model.joint(i).qpos0, model.joint(i).range)\n",
    "    \n",
    "print(\"\\nModel bodies:\")\n",
    "for i in range(model.nbody):\n",
    "    print(\"\",model.body(i).name, i, model.body(i).pos)\n",
    "    \n",
    "print(\"\\nModel sensors:\")\n",
    "for i in range(model.nsensor):\n",
    "    print(\"\",model.sensor(i).name, i, model.sensor(i).type, data.sensor(i).data)\n",
    "    "
   ]
  },
  {
   "cell_type": "code",
   "execution_count": 7,
   "metadata": {},
   "outputs": [
    {
     "data": {
      "text/plain": [
       "<_MjDataBodyViews\n",
       "  cacc: array([0., 0., 0., 0., 0., 0.])\n",
       "  cfrc_ext: array([0., 0., 0., 0., 0., 0.])\n",
       "  cfrc_int: array([0., 0., 0., 0., 0., 0.])\n",
       "  cinert: array([0., 0., 0., 0., 0., 0., 0., 0., 0., 0.])\n",
       "  crb: array([0., 0., 0., 0., 0., 0., 0., 0., 0., 0.])\n",
       "  cvel: array([0., 0., 0., 0., 0., 0.])\n",
       "  id: 12\n",
       "  name: 'right_ankle_link'\n",
       "  subtree_angmom: array([0., 0., 0.])\n",
       "  subtree_com: array([0., 0., 0.])\n",
       "  subtree_linvel: array([0., 0., 0.])\n",
       "  xfrc_applied: array([0., 0., 0., 0., 0., 0.])\n",
       "  ximat: array([0., 0., 0., 0., 0., 0., 0., 0., 0.])\n",
       "  xipos: array([0., 0., 0.])\n",
       "  xmat: array([0., 0., 0., 0., 0., 0., 0., 0., 0.])\n",
       "  xpos: array([0., 0., 0.])\n",
       "  xquat: array([0., 0., 0., 0.])\n",
       ">"
      ]
     },
     "execution_count": 7,
     "metadata": {},
     "output_type": "execute_result"
    }
   ],
   "source": [
    "data.body('right_ankle_link')"
   ]
  },
  {
   "cell_type": "code",
   "execution_count": 23,
   "metadata": {},
   "outputs": [],
   "source": [
    "model.opt.timestep = 0.03"
   ]
  },
  {
   "cell_type": "code",
   "execution_count": 24,
   "metadata": {},
   "outputs": [],
   "source": [
    "geom = mujoco.MjvGeom()\n",
    "start_pos = [0, 0, 0]\n",
    "end_pos = [1, 1, 1]\n",
    "width = 0.1\n",
    "type = mujoco.mjtGeom.mjGEOM_LINE\n"
   ]
  },
  {
   "cell_type": "code",
   "execution_count": 25,
   "metadata": {},
   "outputs": [],
   "source": [
    "def add_fw_cost(manager):\n",
    "    line = manager.add_line()\n",
    "    line.start = lambda: data.site('upper_torso').xpos\n",
    "    line.end = lambda: data.site('upper_torso').xpos + data.sensor('torso_forward').data\n",
    "    line = manager.add_line()\n",
    "    line.start = lambda: data.body('pelvis').xpos\n",
    "    line.end = lambda: data.body('pelvis').xpos + data.sensor('pelvis_forward').data\n",
    "    line = manager.add_line()\n",
    "    line.start = lambda: data.body('right_ankle_link').xpos\n",
    "    line.end = lambda: data.body('right_ankle_link').xpos + data.sensor('foot_right_forward').data\n",
    "    line = manager.add_line()\n",
    "    line.start = lambda: data.body('left_ankle_link').xpos\n",
    "    line.end = lambda: data.body('left_ankle_link').xpos + data.sensor('foot_left_forward').data"
   ]
  },
  {
   "cell_type": "code",
   "execution_count": 26,
   "metadata": {},
   "outputs": [
    {
     "ename": "",
     "evalue": "",
     "output_type": "error",
     "traceback": [
      "\u001b[1;31mThe Kernel crashed while executing code in the current cell or a previous cell. \n",
      "\u001b[1;31mPlease review the code in the cell(s) to identify a possible cause of the failure. \n",
      "\u001b[1;31mClick <a href='https://aka.ms/vscodeJupyterKernelCrash'>here</a> for more info. \n",
      "\u001b[1;31mView Jupyter <a href='command:jupyter.viewOutput'>log</a> for further details."
     ]
    }
   ],
   "source": [
    "import time\n",
    "import mujoco\n",
    "import mujoco.viewer\n",
    "from mjv_utils import Line, GeomManager\n",
    "\n",
    "with mujoco.viewer.launch_passive(model, data) as viewer:\n",
    "  start = time.time()\n",
    "  while not viewer.is_running():\n",
    "    pass\n",
    "  viewer.opt.flags[mujoco.mjtVisFlag.mjVIS_TRANSPARENT] = 1\n",
    "  manager = GeomManager(viewer.user_scn)\n",
    "  add_fw_cost(manager)\n",
    "  while viewer.is_running():\n",
    "    step_start = time.time()\n",
    "\n",
    "    # mj_step can be replaced with code that also evaluates\n",
    "    # a policy and applies a control signal before stepping the physics.\n",
    "    mujoco.mj_step(model, data)\n",
    "    manager.update()\n",
    "    \n",
    "    # Example modification of a viewer option: toggle contact points every two seconds.\n",
    "    # with viewer.lock():\n",
    "    #   viewer.opt.flags[mujoco.mjtVisFlag.mjVIS_CONTACTPOINT] = int(data.time % 2)\n",
    "    \n",
    "    # Pick up changes to the physics state, apply perturbations, update options from GUI.\n",
    "    viewer.sync()\n",
    "\n",
    "    # Rudimentary time keeping, will drift relative to wall clock.\n",
    "    time_until_next_step = model.opt.timestep - (time.time() - step_start)\n",
    "    \n",
    "    if time_until_next_step > 0:\n",
    "      time.sleep(time_until_next_step)\n",
    "    else:\n",
    "      print(\"Simulation not running in real time!\")"
   ]
  },
  {
   "cell_type": "code",
   "execution_count": 27,
   "metadata": {},
   "outputs": [],
   "source": [
    "model = mujoco.MjModel.from_xml_path('./build/mjpc/tasks/humanoid/walk/task.xml')\n",
    "data = mujoco.MjData(model)\n",
    "viewer.launch(model=model, data=data)"
   ]
  },
  {
   "cell_type": "code",
   "execution_count": 30,
   "metadata": {},
   "outputs": [],
   "source": [
    "model = mujoco.MjModel.from_xml_path('./mjpc/tasks/h1/walk/task.xml')\n",
    "data = mujoco.MjData(model)\n",
    "viewer.launch(model=model, data=data)"
   ]
  }
 ],
 "metadata": {
  "kernelspec": {
   "display_name": "mujoco",
   "language": "python",
   "name": "python3"
  },
  "language_info": {
   "codemirror_mode": {
    "name": "ipython",
    "version": 3
   },
   "file_extension": ".py",
   "mimetype": "text/x-python",
   "name": "python",
   "nbconvert_exporter": "python",
   "pygments_lexer": "ipython3",
   "version": "3.11.8"
  }
 },
 "nbformat": 4,
 "nbformat_minor": 2
}
