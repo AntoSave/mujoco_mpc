{
 "cells": [
  {
   "cell_type": "code",
   "execution_count": null,
   "metadata": {},
   "outputs": [],
   "source": [
    "import mujoco\n",
    "import mediapy as media\n",
    "import mujoco.viewer as viewer\n",
    "import pathlib\n",
    "import matplotlib.pyplot as plt"
   ]
  },
  {
   "cell_type": "code",
   "execution_count": null,
   "metadata": {},
   "outputs": [],
   "source": [
    "model = mujoco.MjModel.from_xml_path('../build/mjpc/tasks/h1/walk/task.xml')\n",
    "data = mujoco.MjData(model)\n",
    "print(\"Model info:\")\n",
    "print(\" nq\", model.nq)\n",
    "print(\" nv\", model.nv)\n",
    "print(\" nu\", model.nu)\n",
    "print(\" na\", model.na)\n",
    "print(\" njoint\", model.njnt)\n",
    "\n",
    "print(\"\\nModel joints:\")\n",
    "for i in range(model.njnt):\n",
    "    print(\"\",model.joint(i).name, model.joint(i).type, model.joint(i).qposadr, model.joint(i).dofadr, model.joint(i).qpos0, model.joint(i).range)\n",
    "    \n",
    "print(\"\\nModel bodies:\")\n",
    "for i in range(model.nbody):\n",
    "    print(\"\",model.body(i).name, i, model.body(i).pos)\n",
    "    \n",
    "print(\"\\nModel sensors:\")\n",
    "for i in range(model.nsensor):\n",
    "    print(\"\",model.sensor(i).name, i, model.sensor(i).type, data.sensor(i).data)\n",
    "    "
   ]
  },
  {
   "cell_type": "code",
   "execution_count": null,
   "metadata": {},
   "outputs": [],
   "source": [
    "data.body('right_ankle_link')"
   ]
  },
  {
   "cell_type": "code",
   "execution_count": null,
   "metadata": {},
   "outputs": [],
   "source": [
    "model.opt.timestep = 0.03"
   ]
  },
  {
   "cell_type": "code",
   "execution_count": null,
   "metadata": {},
   "outputs": [],
   "source": [
    "geom = mujoco.MjvGeom()\n",
    "start_pos = [0, 0, 0]\n",
    "end_pos = [1, 1, 1]\n",
    "width = 0.1\n",
    "type = mujoco.mjtGeom.mjGEOM_LINE\n"
   ]
  },
  {
   "cell_type": "code",
   "execution_count": null,
   "metadata": {},
   "outputs": [],
   "source": [
    "def add_fw_cost(manager):\n",
    "    line = manager.add_line()\n",
    "    line.start = lambda: data.site('upper_torso').xpos\n",
    "    line.end = lambda: data.site('upper_torso').xpos + data.sensor('torso_forward').data\n",
    "    line = manager.add_line()\n",
    "    line.start = lambda: data.body('pelvis').xpos\n",
    "    line.end = lambda: data.body('pelvis').xpos + data.sensor('pelvis_forward').data\n",
    "    line = manager.add_line()\n",
    "    line.start = lambda: data.body('right_ankle_link').xpos\n",
    "    line.end = lambda: data.body('right_ankle_link').xpos + data.sensor('foot_right_forward').data\n",
    "    line = manager.add_line()\n",
    "    line.start = lambda: data.body('left_ankle_link').xpos\n",
    "    line.end = lambda: data.body('left_ankle_link').xpos + data.sensor('foot_left_forward').data"
   ]
  },
  {
   "cell_type": "code",
   "execution_count": null,
   "metadata": {},
   "outputs": [],
   "source": [
    "import time\n",
    "import mujoco\n",
    "import mujoco.viewer\n",
    "from mjv_utils import Line, GeomManager\n",
    "\n",
    "with mujoco.viewer.launch_passive(model, data) as viewer:\n",
    "  start = time.time()\n",
    "  while not viewer.is_running():\n",
    "    pass\n",
    "  viewer.opt.flags[mujoco.mjtVisFlag.mjVIS_TRANSPARENT] = 1\n",
    "  manager = GeomManager(viewer.user_scn)\n",
    "  add_fw_cost(manager)\n",
    "  while viewer.is_running():\n",
    "    step_start = time.time()\n",
    "\n",
    "    # mj_step can be replaced with code that also evaluates\n",
    "    # a policy and applies a control signal before stepping the physics.\n",
    "    mujoco.mj_step(model, data)\n",
    "    manager.update()\n",
    "    \n",
    "    # Example modification of a viewer option: toggle contact points every two seconds.\n",
    "    # with viewer.lock():\n",
    "    #   viewer.opt.flags[mujoco.mjtVisFlag.mjVIS_CONTACTPOINT] = int(data.time % 2)\n",
    "    \n",
    "    # Pick up changes to the physics state, apply perturbations, update options from GUI.\n",
    "    viewer.sync()\n",
    "\n",
    "    # Rudimentary time keeping, will drift relative to wall clock.\n",
    "    time_until_next_step = model.opt.timestep - (time.time() - step_start)\n",
    "    \n",
    "    if time_until_next_step > 0:\n",
    "      time.sleep(time_until_next_step)\n",
    "    else:\n",
    "      print(\"Simulation not running in real time!\")"
   ]
  },
  {
   "cell_type": "code",
   "execution_count": null,
   "metadata": {},
   "outputs": [],
   "source": [
    "model = mujoco.MjModel.from_xml_path('./build/mjpc/tasks/humanoid/walk/task.xml')\n",
    "data = mujoco.MjData(model)\n",
    "viewer.launch(model=model, data=data)"
   ]
  },
  {
   "cell_type": "code",
   "execution_count": null,
   "metadata": {},
   "outputs": [],
   "source": [
    "model = mujoco.MjModel.from_xml_path('./mjpc/tasks/h1/walk/task.xml')\n",
    "data = mujoco.MjData(model)\n",
    "viewer.launch(model=model, data=data)"
   ]
  },
  {
   "cell_type": "markdown",
   "metadata": {},
   "source": [
    "# Trajectory interpolation testing"
   ]
  },
  {
   "cell_type": "code",
   "execution_count": null,
   "metadata": {},
   "outputs": [],
   "source": [
    "import pathlib\n",
    "import mujoco\n",
    "from mujoco_mpc import agent as agent_lib\n",
    "import time\n",
    "import scipy\n",
    "import scipy.interpolate"
   ]
  },
  {
   "cell_type": "code",
   "execution_count": null,
   "metadata": {},
   "outputs": [],
   "source": [
    "\n",
    "model = mujoco.MjModel.from_xml_path('../build/mjpc/tasks/h1/walk/task.xml')\n",
    "data = mujoco.MjData(model)\n",
    "\n",
    "agent = agent_lib.Agent(task_id=\"H1 Walk\", \n",
    "                            model=model, \n",
    "                            server_binary_path=pathlib.Path(agent_lib.__file__).parent\n",
    "                            / \"mjpc\"\n",
    "                            / \"agent_server\")\n",
    "\n",
    "agent2 = agent_lib.Agent(task_id=\"H1 Walk\", \n",
    "                            model=model, \n",
    "                            server_binary_path=pathlib.Path(agent_lib.__file__).parent\n",
    "                            / \"mjpc\"\n",
    "                            / \"agent_server\")\n",
    "\n",
    "agent.set_state(\n",
    "                time=data.time+1,\n",
    "                qpos=data.qpos,\n",
    "                qvel=data.qvel,\n",
    "                act=data.act,\n",
    "                mocap_pos=data.mocap_pos,\n",
    "                mocap_quat=data.mocap_quat,\n",
    "                userdata=data.userdata,\n",
    "            )\n",
    "\n",
    "agent2.set_state(\n",
    "                time=data.time,\n",
    "                qpos=data.qpos,\n",
    "                qvel=data.qvel,\n",
    "                act=data.act,\n",
    "                mocap_pos=data.mocap_pos,\n",
    "                mocap_quat=data.mocap_quat,\n",
    "                userdata=data.userdata,\n",
    "            )"
   ]
  },
  {
   "cell_type": "code",
   "execution_count": null,
   "metadata": {},
   "outputs": [],
   "source": [
    "agent.get_cost_weights()"
   ]
  },
  {
   "cell_type": "code",
   "execution_count": null,
   "metadata": {},
   "outputs": [],
   "source": [
    "t = time.time()\n",
    "agent.planner_step()\n",
    "agent2.planner_step()\n",
    "print(\"Time\", time.time()-t)"
   ]
  },
  {
   "cell_type": "code",
   "execution_count": null,
   "metadata": {},
   "outputs": [],
   "source": [
    "t = time.time()\n",
    "best_traj = agent.best_trajectory()\n",
    "elapsed = time.time() - t\n",
    "print(elapsed)\n",
    "best_traj"
   ]
  },
  {
   "cell_type": "code",
   "execution_count": null,
   "metadata": {},
   "outputs": [],
   "source": [
    "t = time.time()\n",
    "agent.get_action(nominal_action=True, time=0.0000)\n",
    "elapsed = time.time() - t\n",
    "print(elapsed)"
   ]
  },
  {
   "cell_type": "code",
   "execution_count": null,
   "metadata": {},
   "outputs": [],
   "source": [
    "print(len(best_traj['times']), len(best_traj['actions']), len(best_traj['states']))"
   ]
  },
  {
   "cell_type": "code",
   "execution_count": null,
   "metadata": {},
   "outputs": [],
   "source": [
    "t = time.time()\n",
    "a = scipy.interpolate.interp1d(best_traj['times'][:-1], best_traj['actions'], axis=0, kind='linear', fill_value='extrapolate')\n",
    "elapsed = time.time() - t\n",
    "print(elapsed)\n",
    "t = time.time()\n",
    "a(0.01)\n",
    "elapsed = time.time() - t\n",
    "print(elapsed)"
   ]
  },
  {
   "cell_type": "code",
   "execution_count": null,
   "metadata": {},
   "outputs": [],
   "source": [
    "model_path = (\n",
    "        \"../build/mjpc/tasks/panda/task.xml\"#\"../build/mjpc/tasks/h1/walk/task.xml\"\n",
    "    )\n",
    "model = mujoco.MjModel.from_xml_path(str(model_path))\n",
    "data = mujoco.MjData(model)\n",
    "mujoco.mj_resetData(model, data)\n",
    "mujoco.mj_step(model, data)\n",
    "width, height = (640, 480)\n",
    "renderer = mujoco.Renderer(model)\n",
    "renderer.update_scene(data)\n",
    "fig = renderer.render()\n",
    "plt.imshow(fig)\n"
   ]
  }
 ],
 "metadata": {
  "kernelspec": {
   "display_name": "mujoco",
   "language": "python",
   "name": "python3"
  },
  "language_info": {
   "codemirror_mode": {
    "name": "ipython",
    "version": 3
   },
   "file_extension": ".py",
   "mimetype": "text/x-python",
   "name": "python",
   "nbconvert_exporter": "python",
   "pygments_lexer": "ipython3",
   "version": "3.10.14"
  }
 },
 "nbformat": 4,
 "nbformat_minor": 2
}
