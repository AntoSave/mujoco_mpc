{
 "cells": [
  {
   "cell_type": "code",
   "execution_count": 1,
   "metadata": {},
   "outputs": [
    {
     "name": "stderr",
     "output_type": "stream",
     "text": [
      "libEGL warning: failed to open /dev/dri/renderD128: Permission denied\n",
      "\n",
      "libEGL warning: failed to open /dev/dri/renderD128: Permission denied\n",
      "\n",
      "libEGL warning: NEEDS EXTENSION: falling back to kms_swrast\n"
     ]
    }
   ],
   "source": [
    "import mujoco\n",
    "import mediapy as media\n",
    "import mujoco.viewer as viewer\n",
    "import pathlib\n",
    "import matplotlib.pyplot as plt"
   ]
  },
  {
   "cell_type": "code",
   "execution_count": 3,
   "metadata": {},
   "outputs": [
    {
     "name": "stdout",
     "output_type": "stream",
     "text": [
      "Model info:\n",
      " nq 26\n",
      " nv 25\n",
      " nu 19\n",
      " na 0\n",
      " njoint 20\n",
      "\n",
      "Model joints:\n",
      " Joint 0  [0] [0] [0] [0.   0.   1.06 1.   0.   0.   0.  ] [0. 0.]\n",
      " Joint 1 left_hip_yaw [3] [7] [6] [0.] [-0.43  0.43]\n",
      " Joint 2 left_hip_roll [3] [8] [7] [0.] [-0.43  0.43]\n",
      " Joint 3 left_hip_pitch [3] [9] [8] [0.] [-1.57  1.57]\n",
      " Joint 4 left_knee [3] [10] [9] [0.] [-0.26  2.05]\n",
      " Joint 5 left_ankle [3] [11] [10] [0.] [-0.87  0.52]\n",
      " Joint 6 right_hip_yaw [3] [12] [11] [0.] [-0.43  0.43]\n",
      " Joint 7 right_hip_roll [3] [13] [12] [0.] [-0.43  0.43]\n",
      " Joint 8 right_hip_pitch [3] [14] [13] [0.] [-1.57  1.57]\n",
      " Joint 9 right_knee [3] [15] [14] [0.] [-0.26  2.05]\n",
      " Joint 10 right_ankle [3] [16] [15] [0.] [-0.87  0.52]\n",
      " Joint 11 torso [3] [17] [16] [0.] [-2.35  2.35]\n",
      " Joint 12 left_shoulder_pitch [3] [18] [17] [0.] [-2.87  2.87]\n",
      " Joint 13 left_shoulder_roll [3] [19] [18] [0.] [-0.34  3.11]\n",
      " Joint 14 left_shoulder_yaw [3] [20] [19] [0.] [-1.3   4.45]\n",
      " Joint 15 left_elbow [3] [21] [20] [0.] [-1.25  2.61]\n",
      " Joint 16 right_shoulder_pitch [3] [22] [21] [0.] [-2.87  2.87]\n",
      " Joint 17 right_shoulder_roll [3] [23] [22] [0.] [-3.11  0.34]\n",
      " Joint 18 right_shoulder_yaw [3] [24] [23] [0.] [-4.45  1.3 ]\n",
      " Joint 19 right_elbow [3] [25] [24] [0.] [-1.25  2.61]\n",
      "\n",
      "Model bodies:\n",
      " world 0 [0. 0. 0.]\n",
      " pelvis 1 [0.   0.   1.06]\n",
      " legs 2 [0. 0. 0.]\n",
      " left_hip_yaw_link 3 [ 0.      0.0875 -0.1742]\n",
      " left_hip_roll_link 4 [0.039468 0.       0.      ]\n",
      " left_hip_pitch_link 5 [0.      0.11536 0.     ]\n",
      " left_knee_link 6 [ 0.   0.  -0.4]\n",
      " left_ankle_link 7 [ 0.   0.  -0.4]\n",
      " right_hip_yaw_link 8 [ 0.     -0.0875 -0.1742]\n",
      " right_hip_roll_link 9 [0.039468 0.       0.      ]\n",
      " right_hip_pitch_link 10 [ 0.      -0.11536  0.     ]\n",
      " right_knee_link 11 [ 0.   0.  -0.4]\n",
      " right_ankle_link 12 [ 0.   0.  -0.4]\n",
      " torso_link 13 [0. 0. 0.]\n",
      " left_shoulder_pitch_link 14 [0.0055  0.15535 0.42999]\n",
      " left_shoulder_roll_link 15 [-0.0055  0.0565 -0.0165]\n",
      " left_shoulder_yaw_link 16 [ 0.      0.     -0.1343]\n",
      " left_elbow_link 17 [ 0.0185  0.     -0.198 ]\n",
      " right_shoulder_pitch_link 18 [ 0.0055  -0.15535  0.42999]\n",
      " right_shoulder_roll_link 19 [-0.0055 -0.0565 -0.0165]\n",
      " right_shoulder_yaw_link 20 [ 0.      0.     -0.1343]\n",
      " right_elbow_link 21 [ 0.0185  0.     -0.198 ]\n",
      " goal 22 [0.3  0.   0.26]\n",
      "\n",
      "Model sensors:\n",
      " Height 0 [42] [0.]\n",
      " Pelvis/Feet 1 [42] [0.]\n",
      " Balance 2 [42] [0. 0.]\n",
      " Upright 3 [42] [0. 0. 0. 0. 0. 0. 0. 0.]\n",
      " Posture up 4 [42] [0. 0. 0. 0. 0. 0. 0. 0. 0.]\n",
      " Posture down 5 [42] [0. 0. 0. 0. 0. 0. 0. 0. 0. 0.]\n",
      " Face goal 6 [42] [0. 0. 0. 0.]\n",
      " Walk forward 7 [42] [0.]\n",
      " Move feet 8 [42] [0. 0.]\n",
      " Control 9 [42] [0. 0. 0. 0. 0. 0. 0. 0. 0. 0. 0. 0. 0. 0. 0. 0. 0. 0. 0.]\n",
      " Feet Distance 10 [42] [0.]\n",
      " Leg cross 11 [42] [0. 0.]\n",
      " Slippage 12 [42] [0. 0.]\n",
      " torso_position 13 [25] [0. 0. 0.]\n",
      " torso_subcom 14 [34] [0. 0. 0.]\n",
      " torso_subcomvel 15 [35] [0. 0. 0.]\n",
      " foot_right 16 [25] [0. 0. 0.]\n",
      " foot_left 17 [25] [0. 0. 0.]\n",
      " foot_right_xbody 18 [25] [0. 0. 0.]\n",
      " foot_left_xbody 19 [25] [0. 0. 0.]\n",
      " pelvis_position 20 [25] [0. 0. 0.]\n",
      " goal 21 [25] [0. 0. 0.]\n",
      " torso_up 22 [29] [0. 0. 0.]\n",
      " pelvis_up 23 [29] [0. 0. 0.]\n",
      " foot_right_up 24 [29] [0. 0. 0.]\n",
      " foot_left_up 25 [29] [0. 0. 0.]\n",
      " foot_left_left 26 [28] [0. 0. 0.]\n",
      " torso_forward 27 [27] [0. 0. 0.]\n",
      " pelvis_forward 28 [27] [0. 0. 0.]\n",
      " foot_right_forward 29 [27] [0. 0. 0.]\n",
      " foot_left_forward 30 [27] [0. 0. 0.]\n",
      " goal_forward 31 [27] [0. 0. 0.]\n",
      " waist_lower_subcomvel 32 [35] [0. 0. 0.]\n",
      " torso_velocity 33 [30] [0. 0. 0.]\n",
      " foot_right_velocity 34 [30] [0. 0. 0.]\n",
      " foot_left_velocity 35 [30] [0. 0. 0.]\n",
      " foot_right_ang_velocity 36 [31] [0. 0. 0.]\n",
      " foot_left_ang_velocity 37 [31] [0. 0. 0.]\n",
      " right_hip_roll 38 [9] [0.]\n",
      " left_hip_roll 39 [9] [0.]\n"
     ]
    }
   ],
   "source": [
    "model = mujoco.MjModel.from_xml_path('../build/mjpc/tasks/h1/walk/task.xml')\n",
    "data = mujoco.MjData(model)\n",
    "print(\"Model info:\")\n",
    "print(\" nq\", model.nq)\n",
    "print(\" nv\", model.nv)\n",
    "print(\" nu\", model.nu)\n",
    "print(\" na\", model.na)\n",
    "print(\" njoint\", model.njnt)\n",
    "\n",
    "print(\"\\nModel joints:\")\n",
    "for i in range(model.njnt):\n",
    "    print(f\" Joint {i}\",model.joint(i).name, model.joint(i).type, model.joint(i).qposadr, model.joint(i).dofadr, model.joint(i).qpos0, model.joint(i).range)\n",
    "    \n",
    "print(\"\\nModel bodies:\")\n",
    "for i in range(model.nbody):\n",
    "    print(\"\",model.body(i).name, i, model.body(i).pos)\n",
    "    \n",
    "print(\"\\nModel sensors:\")\n",
    "for i in range(model.nsensor):\n",
    "    print(\"\",model.sensor(i).name, i, model.sensor(i).type, data.sensor(i).data)\n",
    "    "
   ]
  },
  {
   "cell_type": "code",
   "execution_count": 5,
   "metadata": {},
   "outputs": [
    {
     "data": {
      "text/plain": [
       "<_MjDataSensorViews\n",
       "  data: array([0., 0., 0.])\n",
       "  id: 29\n",
       "  name: 'foot_right_forward'\n",
       ">"
      ]
     },
     "execution_count": 5,
     "metadata": {},
     "output_type": "execute_result"
    }
   ],
   "source": [
    "data.sensor('foot_right_forward')"
   ]
  },
  {
   "cell_type": "code",
   "execution_count": null,
   "metadata": {},
   "outputs": [],
   "source": [
    "data.body('right_ankle_link')"
   ]
  },
  {
   "cell_type": "code",
   "execution_count": null,
   "metadata": {},
   "outputs": [],
   "source": [
    "model.opt.timestep = 0.03"
   ]
  },
  {
   "cell_type": "code",
   "execution_count": null,
   "metadata": {},
   "outputs": [],
   "source": [
    "geom = mujoco.MjvGeom()\n",
    "start_pos = [0, 0, 0]\n",
    "end_pos = [1, 1, 1]\n",
    "width = 0.1\n",
    "type = mujoco.mjtGeom.mjGEOM_LINE\n"
   ]
  },
  {
   "cell_type": "code",
   "execution_count": null,
   "metadata": {},
   "outputs": [],
   "source": [
    "def add_fw_cost(manager):\n",
    "    line = manager.add_line()\n",
    "    line.start = lambda: data.site('upper_torso').xpos\n",
    "    line.end = lambda: data.site('upper_torso').xpos + data.sensor('torso_forward').data\n",
    "    line = manager.add_line()\n",
    "    line.start = lambda: data.body('pelvis').xpos\n",
    "    line.end = lambda: data.body('pelvis').xpos + data.sensor('pelvis_forward').data\n",
    "    line = manager.add_line()\n",
    "    line.start = lambda: data.body('right_ankle_link').xpos\n",
    "    line.end = lambda: data.body('right_ankle_link').xpos + data.sensor('foot_right_forward').data\n",
    "    line = manager.add_line()\n",
    "    line.start = lambda: data.body('left_ankle_link').xpos\n",
    "    line.end = lambda: data.body('left_ankle_link').xpos + data.sensor('foot_left_forward').data"
   ]
  },
  {
   "cell_type": "code",
   "execution_count": null,
   "metadata": {},
   "outputs": [],
   "source": [
    "import time\n",
    "import mujoco\n",
    "import mujoco.viewer\n",
    "from mjv_utils import Line, GeomManager\n",
    "\n",
    "with mujoco.viewer.launch_passive(model, data) as viewer:\n",
    "  start = time.time()\n",
    "  while not viewer.is_running():\n",
    "    pass\n",
    "  viewer.opt.flags[mujoco.mjtVisFlag.mjVIS_TRANSPARENT] = 1\n",
    "  manager = GeomManager(viewer.user_scn)\n",
    "  add_fw_cost(manager)\n",
    "  while viewer.is_running():\n",
    "    step_start = time.time()\n",
    "\n",
    "    # mj_step can be replaced with code that also evaluates\n",
    "    # a policy and applies a control signal before stepping the physics.\n",
    "    mujoco.mj_step(model, data)\n",
    "    manager.update()\n",
    "    \n",
    "    # Example modification of a viewer option: toggle contact points every two seconds.\n",
    "    # with viewer.lock():\n",
    "    #   viewer.opt.flags[mujoco.mjtVisFlag.mjVIS_CONTACTPOINT] = int(data.time % 2)\n",
    "    \n",
    "    # Pick up changes to the physics state, apply perturbations, update options from GUI.\n",
    "    viewer.sync()\n",
    "\n",
    "    # Rudimentary time keeping, will drift relative to wall clock.\n",
    "    time_until_next_step = model.opt.timestep - (time.time() - step_start)\n",
    "    \n",
    "    if time_until_next_step > 0:\n",
    "      time.sleep(time_until_next_step)\n",
    "    else:\n",
    "      print(\"Simulation not running in real time!\")"
   ]
  },
  {
   "cell_type": "code",
   "execution_count": null,
   "metadata": {},
   "outputs": [],
   "source": [
    "model = mujoco.MjModel.from_xml_path('./build/mjpc/tasks/humanoid/walk/task.xml')\n",
    "data = mujoco.MjData(model)\n",
    "viewer.launch(model=model, data=data)"
   ]
  },
  {
   "cell_type": "code",
   "execution_count": null,
   "metadata": {},
   "outputs": [],
   "source": [
    "model = mujoco.MjModel.from_xml_path('./mjpc/tasks/h1/walk/task.xml')\n",
    "data = mujoco.MjData(model)\n",
    "viewer.launch(model=model, data=data)"
   ]
  },
  {
   "cell_type": "markdown",
   "metadata": {},
   "source": [
    "# Trajectory interpolation testing"
   ]
  },
  {
   "cell_type": "code",
   "execution_count": null,
   "metadata": {},
   "outputs": [],
   "source": [
    "import pathlib\n",
    "import mujoco\n",
    "from mujoco_mpc import agent as agent_lib\n",
    "import time\n",
    "import scipy\n",
    "import scipy.interpolate"
   ]
  },
  {
   "cell_type": "code",
   "execution_count": null,
   "metadata": {},
   "outputs": [],
   "source": [
    "\n",
    "model = mujoco.MjModel.from_xml_path('../build/mjpc/tasks/h1/walk/task.xml')\n",
    "data = mujoco.MjData(model)\n",
    "\n",
    "agent = agent_lib.Agent(task_id=\"H1 Walk\", \n",
    "                            model=model, \n",
    "                            server_binary_path=pathlib.Path(agent_lib.__file__).parent\n",
    "                            / \"mjpc\"\n",
    "                            / \"agent_server\")\n",
    "\n",
    "agent2 = agent_lib.Agent(task_id=\"H1 Walk\", \n",
    "                            model=model, \n",
    "                            server_binary_path=pathlib.Path(agent_lib.__file__).parent\n",
    "                            / \"mjpc\"\n",
    "                            / \"agent_server\")\n",
    "\n",
    "agent.set_state(\n",
    "                time=data.time+1,\n",
    "                qpos=data.qpos,\n",
    "                qvel=data.qvel,\n",
    "                act=data.act,\n",
    "                mocap_pos=data.mocap_pos,\n",
    "                mocap_quat=data.mocap_quat,\n",
    "                userdata=data.userdata,\n",
    "            )\n",
    "\n",
    "agent2.set_state(\n",
    "                time=data.time,\n",
    "                qpos=data.qpos,\n",
    "                qvel=data.qvel,\n",
    "                act=data.act,\n",
    "                mocap_pos=data.mocap_pos,\n",
    "                mocap_quat=data.mocap_quat,\n",
    "                userdata=data.userdata,\n",
    "            )"
   ]
  },
  {
   "cell_type": "code",
   "execution_count": null,
   "metadata": {},
   "outputs": [],
   "source": [
    "agent.get_cost_weights()"
   ]
  },
  {
   "cell_type": "code",
   "execution_count": null,
   "metadata": {},
   "outputs": [],
   "source": [
    "t = time.time()\n",
    "agent.planner_step()\n",
    "agent2.planner_step()\n",
    "print(\"Time\", time.time()-t)"
   ]
  },
  {
   "cell_type": "code",
   "execution_count": null,
   "metadata": {},
   "outputs": [],
   "source": [
    "t = time.time()\n",
    "best_traj = agent.best_trajectory()\n",
    "elapsed = time.time() - t\n",
    "print(elapsed)\n",
    "best_traj"
   ]
  },
  {
   "cell_type": "code",
   "execution_count": null,
   "metadata": {},
   "outputs": [],
   "source": [
    "t = time.time()\n",
    "agent.get_action(nominal_action=True, time=0.0000)\n",
    "elapsed = time.time() - t\n",
    "print(elapsed)"
   ]
  },
  {
   "cell_type": "code",
   "execution_count": null,
   "metadata": {},
   "outputs": [],
   "source": [
    "print(len(best_traj['times']), len(best_traj['actions']), len(best_traj['states']))"
   ]
  },
  {
   "cell_type": "code",
   "execution_count": null,
   "metadata": {},
   "outputs": [],
   "source": [
    "t = time.time()\n",
    "a = scipy.interpolate.interp1d(best_traj['times'][:-1], best_traj['actions'], axis=0, kind='linear', fill_value='extrapolate')\n",
    "elapsed = time.time() - t\n",
    "print(elapsed)\n",
    "t = time.time()\n",
    "a(0.01)\n",
    "elapsed = time.time() - t\n",
    "print(elapsed)"
   ]
  },
  {
   "cell_type": "code",
   "execution_count": null,
   "metadata": {},
   "outputs": [],
   "source": [
    "model_path = (\n",
    "        \"../build/mjpc/tasks/panda/task.xml\"#\"../build/mjpc/tasks/h1/walk/task.xml\"\n",
    "    )\n",
    "model = mujoco.MjModel.from_xml_path(str(model_path))\n",
    "data = mujoco.MjData(model)\n",
    "mujoco.mj_resetData(model, data)\n",
    "mujoco.mj_step(model, data)\n",
    "width, height = (640, 480)\n",
    "renderer = mujoco.Renderer(model)\n",
    "renderer.update_scene(data)\n",
    "fig = renderer.render()\n",
    "plt.imshow(fig)\n"
   ]
  }
 ],
 "metadata": {
  "kernelspec": {
   "display_name": "mujoco",
   "language": "python",
   "name": "python3"
  },
  "language_info": {
   "codemirror_mode": {
    "name": "ipython",
    "version": 3
   },
   "file_extension": ".py",
   "mimetype": "text/x-python",
   "name": "python",
   "nbconvert_exporter": "python",
   "pygments_lexer": "ipython3",
   "version": "3.10.14"
  }
 },
 "nbformat": 4,
 "nbformat_minor": 2
}
